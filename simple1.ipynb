{
  "nbformat": 4,
  "nbformat_minor": 0,
  "metadata": {
    "colab": {
      "provenance": []
    },
    "kernelspec": {
      "name": "python3",
      "display_name": "Python 3"
    },
    "language_info": {
      "name": "python"
    }
  },
  "cells": [
    {
      "cell_type": "code",
      "execution_count": 8,
      "metadata": {
        "colab": {
          "base_uri": "https://localhost:8080/"
        },
        "id": "mIPMZIxn9t6K",
        "outputId": "d6cbaab2-4be2-440c-f29e-11532c3119cb"
      },
      "outputs": [
        {
          "output_type": "stream",
          "name": "stdout",
          "text": [
            "[1, 4, 9, 16]\n"
          ]
        }
      ],
      "source": [
        "list1=[1,2,3,4]\n",
        "list=[]\n",
        "for i in list1:\n",
        " list.append(i**2)\n",
        "print(list)"
      ]
    },
    {
      "cell_type": "code",
      "source": [],
      "metadata": {
        "id": "DKe9D53y-Rw4"
      },
      "execution_count": null,
      "outputs": []
    }
  ]
}